{
 "metadata": {
  "name": ""
 },
 "nbformat": 3,
 "nbformat_minor": 0,
 "worksheets": [
  {
   "cells": [
    {
     "cell_type": "heading",
     "level": 1,
     "metadata": {},
     "source": [
      "2013 Chicago Marathon Analysis"
     ]
    },
    {
     "cell_type": "markdown",
     "metadata": {},
     "source": [
      "With close to 39,000 results, the [2013 Chicago Marathon Results](http://results.chicagomarathon.com/2013/) combine two of my favourite topics, statistics and running.  I decided to take this opportunity to learn more about [pandas](http://pandas.pydata.org/) by using it to analyze the result set to provide some insight into how people run marathons.\n",
      "\n",
      "Let me begin first by saying I am **not** a statistician and this won't be a formal or rigourous statistical analysis. Instead, these are at best Malcolm Gladwell-esque observations, less the interesting storytelling. I will be cherry-picking results in order to illustrate something that may be \"interesting\", but will likely have no statistical significance."
     ]
    },
    {
     "cell_type": "code",
     "collapsed": false,
     "input": [
      "import pandas as pd\n",
      "%pylab inline"
     ],
     "language": "python",
     "metadata": {},
     "outputs": [
      {
       "output_type": "stream",
       "stream": "stdout",
       "text": [
        "Populating the interactive namespace from numpy and matplotlib\n"
       ]
      },
      {
       "output_type": "stream",
       "stream": "stderr",
       "text": [
        "WARNING: pylab import has clobbered these variables: ['f']\n",
        "`%pylab --no-import-all` prevents importing * from pylab and numpy\n"
       ]
      }
     ],
     "prompt_number": 299
    },
    {
     "cell_type": "code",
     "collapsed": false,
     "input": [
      "# Plotting options.\n",
      "pd.set_option('display.mpl_style', 'default') # Make the graphs a bit prettier\n",
      "figsize(15, 5)"
     ],
     "language": "python",
     "metadata": {},
     "outputs": [],
     "prompt_number": 300
    },
    {
     "cell_type": "code",
     "collapsed": false,
     "input": [
      "# These results were obtained by scraping the official results site.\n",
      "results = pd.read_csv('chicago_marathon_results.csv')"
     ],
     "language": "python",
     "metadata": {},
     "outputs": [],
     "prompt_number": 301
    },
    {
     "cell_type": "code",
     "collapsed": false,
     "input": [
      "# Massage the data: Change the M-15/W-15 to just 0-15 to match the other division nomenclature, which does not have a gender.\n",
      "results.division[results.division == 'M-15'] = '0-15'\n",
      "results.division[results.division == 'W-15'] = '0-15'"
     ],
     "language": "python",
     "metadata": {},
     "outputs": [],
     "prompt_number": 302
    },
    {
     "cell_type": "markdown",
     "metadata": {},
     "source": [
      "Here's what a sample result looks like: (Note that the DataFrame index is **not** the finishing place, because I had to scrape male and female results separately)"
     ]
    },
    {
     "cell_type": "code",
     "collapsed": false,
     "input": [
      "results[results.name_location == 'Chng, Peter (CAN)']"
     ],
     "language": "python",
     "metadata": {},
     "outputs": [
      {
       "html": [
        "<div style=\"max-height:1000px;max-width:1500px;overflow:auto;\">\n",
        "<table border=\"1\" class=\"dataframe\">\n",
        "  <thead>\n",
        "    <tr style=\"text-align: right;\">\n",
        "      <th></th>\n",
        "      <th>place</th>\n",
        "      <th>place_gender</th>\n",
        "      <th>place_division</th>\n",
        "      <th>name_location</th>\n",
        "      <th>city_state</th>\n",
        "      <th>bib</th>\n",
        "      <th>division</th>\n",
        "      <th>age</th>\n",
        "      <th>half_split</th>\n",
        "      <th>finish</th>\n",
        "      <th>gender</th>\n",
        "    </tr>\n",
        "  </thead>\n",
        "  <tbody>\n",
        "    <tr>\n",
        "      <th>512</th>\n",
        "      <td> 570</td>\n",
        "      <td> 513</td>\n",
        "      <td> 153</td>\n",
        "      <td> Chng, Peter (CAN)</td>\n",
        "      <td> Toronto, ON</td>\n",
        "      <td> 1032</td>\n",
        "      <td> 25-29</td>\n",
        "      <td> 29</td>\n",
        "      <td> 01:27:14</td>\n",
        "      <td> 02:55:22</td>\n",
        "      <td> M</td>\n",
        "    </tr>\n",
        "  </tbody>\n",
        "</table>\n",
        "</div>"
       ],
       "metadata": {},
       "output_type": "pyout",
       "prompt_number": 303,
       "text": [
        "     place  place_gender  place_division      name_location   city_state  \\\n",
        "512    570           513             153  Chng, Peter (CAN)  Toronto, ON   \n",
        "\n",
        "      bib division  age half_split    finish gender  \n",
        "512  1032    25-29   29   01:27:14  02:55:22      M  "
       ]
      }
     ],
     "prompt_number": 303
    },
    {
     "cell_type": "heading",
     "level": 2,
     "metadata": {},
     "source": [
      "Demographics"
     ]
    },
    {
     "cell_type": "markdown",
     "metadata": {},
     "source": [
      "There were a total of 38,883 results obtained from the website, broken down into the following numbers for men/women:"
     ]
    },
    {
     "cell_type": "code",
     "collapsed": false,
     "input": [
      "gender_breakdown = results.groupby(['gender']).size();\n",
      "ax = gender_breakdown.plot(kind='bar', figsize=(5,5))\n",
      "pyplot.xticks(rotation='horizontal')\n",
      "def label_gender_breakdown(values, total, ax):\n",
      "    for i, value in enumerate(values):\n",
      "        ax.text(0.5 + i, 1.05*value, value, size=14, weight='bold')\n",
      "        ax.text(0.5 + i, 0.5*value, \"{:.2%}\".format(float(value)/total), size=12, weight='bold', color='w')\n",
      "label_gender_breakdown(gender_breakdown, len(results), ax)"
     ],
     "language": "python",
     "metadata": {},
     "outputs": [
      {
       "metadata": {},
       "output_type": "display_data",
       "png": "[encoded data removed]",
       "text": [
        "<matplotlib.figure.Figure at 0x209d41d0>"
       ]
      }
     ],
     "prompt_number": 304
    },
    {
     "cell_type": "heading",
     "level": 3,
     "metadata": {},
     "source": [
      "Age Groups"
     ]
    },
    {
     "cell_type": "markdown",
     "metadata": {},
     "source": [
      "There's nothing surprising here. Most marathons tend to be split roughly ~60/40 in terms of a male/female ratio, so 55/45 is not too far off. A further breakdown by gender and age group is provided below:"
     ]
    },
    {
     "cell_type": "code",
     "collapsed": false,
     "input": [
      "m = results[results.gender == 'M'].groupby(['division']).size()\n",
      "f = results[results.gender == 'W'].groupby(['division']).size()\n",
      "d = {'M': m, 'F': f}\n",
      "gender_division_counts = pd.DataFrame(d)\n",
      "ax = gender_division_counts.plot(kind='bar', color=['r', 'b'])\n",
      "ax.set_ylabel('Number of runners')\n",
      "def label_gender_division_counts(d, ax):\n",
      "    for (i, value) in enumerate(d['F']):\n",
      "        m_value = d['M'][i]\n",
      "        ax.text(0.25 + i, 1.05*value, value, weight='bold')\n",
      "        ax.text(0.65 + i, 1.05*m_value, m_value, weight='bold')\n",
      "label_gender_division_counts(d, ax)"
     ],
     "language": "python",
     "metadata": {},
     "outputs": [
      {
       "metadata": {},
       "output_type": "display_data",
       "png": "[encoded data removed]",
       "text": [
        "<matplotlib.figure.Figure at 0x209d7550>"
       ]
      }
     ],
     "prompt_number": 305
    },
    {
     "cell_type": "markdown",
     "metadata": {},
     "source": [
      "My Malcolm Gladwell-esque observation: Women tend to care more about fitness (or at least marathons) than men earlier in life.  The F25-29 group is by far the largest division represented here. However, the female numbers drop off after this age group, perhaps because the amount of free time women have is highest in their mid-to-late 20s.\n",
      "\n",
      "On the other hand, men develop more concern for marathonining later in life, starting after their 30s, with the next largest divisions being M30-34, M35-39 and M40-44, all of which are roughly equal.  These three age groups account for almost 28% of the total number of runners finishing the race.  Curiously, male participation drops off steeply after the M40-44 age group.  I would have thought it would remain stronger on account of men having more free time later in life and perhaps due to the \"mid-life crisis\" effect.\n",
      "\n",
      "All together, the top five divisions by numbers (**F25-29, M30-34, M35-39, M40-44 and F30-34**) account for 46% of the total finishers."
     ]
    },
    {
     "cell_type": "heading",
     "level": 2,
     "metadata": {},
     "source": [
      "Finishing times"
     ]
    },
    {
     "cell_type": "markdown",
     "metadata": {},
     "source": [
      "Let's look at a graph of finishing time vs. finishing place.  First, we have to convert the String \"HH:MM:SS\" format into an integer number of seconds for graphing purposes. (Perhaps there is an easier way by converting this into a `timedelta` or similar type instead?)"
     ]
    },
    {
     "cell_type": "code",
     "collapsed": false,
     "input": [
      "# Convert a hh:mm:ss string to int seconds.\n",
      "def timestring_to_seconds(time_string):\n",
      "    if type(time_string) != str:\n",
      "        return numpy.nan\n",
      "    parts = time_string.split(':')\n",
      "    return int(parts[0])*3600 + int(parts[1])*60 + int(parts[2])\n",
      "\n",
      "# Convert an int seconds into a str hh:mm:ss\n",
      "def seconds_to_timestring(time_seconds):\n",
      "    if math.isnan(time_seconds):\n",
      "        return nan\n",
      "    \n",
      "    # If the number is negative, work with the absolute value to avoid modulo with negative numbers.\n",
      "    time = abs(time_seconds)\n",
      "    \n",
      "    hours = int(time/3600)\n",
      "    minutes = int((time % 3600)/60)\n",
      "    seconds = time % 60\n",
      "    output = \"{0}:{1:02.0f}:{2:04.1f}\".format(hours, minutes, seconds)\n",
      "    if time_seconds < 0:\n",
      "        output = '-' + output\n",
      "    return output\n",
      "\n",
      "# Convert times into seconds.\n",
      "results['finish_seconds'] = results['finish'].map(timestring_to_seconds)\n",
      "results['half_split_seconds'] = results['half_split'].map(timestring_to_seconds)"
     ],
     "language": "python",
     "metadata": {},
     "outputs": [],
     "prompt_number": 308
    },
    {
     "cell_type": "code",
     "collapsed": false,
     "input": [
      "# Axis formatter to convert seconds to a human-readable time.\n",
      "def time_ticks(x, pos):\n",
      "    d = datetime.timedelta(seconds=x)\n",
      "    return str(d)\n",
      "ax = results.sort(columns='finish_seconds').plot(x='place', y='finish_seconds', figsize=(15,5))\n",
      "ax.yaxis.set_major_formatter(matplotlib.ticker.FuncFormatter(time_ticks))\n",
      "ax.yaxis.set_label_text('finishing time')\n",
      "ax.xaxis.set_label_text('finishing place')\n",
      "\n",
      "# TODO: PC: Calculate the slope as a function of the finishing place, i.e. take the derivative."
     ],
     "language": "python",
     "metadata": {},
     "outputs": [
      {
       "metadata": {},
       "output_type": "pyout",
       "prompt_number": 309,
       "text": [
        "<matplotlib.text.Text at 0x1eda71d0>"
       ]
      },
      {
       "metadata": {},
       "output_type": "display_data",
       "png": "[encoded data removed]",
       "text": [
        "<matplotlib.figure.Figure at 0x1bc2a748>"
       ]
      }
     ],
     "prompt_number": 309
    },
    {
     "cell_type": "markdown",
     "metadata": {},
     "source": [
      "From what I've seen, this is a pretty typical result.  The graph initially has a very steep slope and is concave (slope decreasing) until we reach what I call the \"main group\" at around a finishing place ~3,000 to ~35,000.  Between these two values, the slope is roughly constant and after this, the slope starts to increase again. (convex)\n",
      "\n",
      "**Interpretation**: Initially, finishers are spread out more and there is a relatively large amount of time between finisher *n* and *n + 1*. By the time we get to finisher 5,000 (roughly ~3:30), there is comparatively less time between subsequent finishers and thus runners are more \"bunched up\".  As time goes on however, finishers get more \"drawn out\",and the last hundred finishers have comparatively large time gaps between them.\n",
      "\n",
      "Some more mundane statistics:"
     ]
    },
    {
     "cell_type": "code",
     "collapsed": false,
     "input": [
      "# Average Finishing Time:\n",
      "seconds_to_timestring(results.finish_seconds.mean())"
     ],
     "language": "python",
     "metadata": {},
     "outputs": [
      {
       "metadata": {},
       "output_type": "pyout",
       "prompt_number": 344,
       "text": [
        "'4:32:24.7'"
       ]
      }
     ],
     "prompt_number": 344
    },
    {
     "cell_type": "code",
     "collapsed": false,
     "input": [
      "# Average Male Finishing Time:\n",
      "seconds_to_timestring(results[results.gender == 'M'].finish_seconds.mean())"
     ],
     "language": "python",
     "metadata": {},
     "outputs": [
      {
       "metadata": {},
       "output_type": "pyout",
       "prompt_number": 346,
       "text": [
        "'4:20:55.7'"
       ]
      }
     ],
     "prompt_number": 346
    },
    {
     "cell_type": "code",
     "collapsed": false,
     "input": [
      "# Average Female Finishing Time:\n",
      "seconds_to_timestring(results[results.gender == 'W'].finish_seconds.mean())"
     ],
     "language": "python",
     "metadata": {},
     "outputs": [
      {
       "metadata": {},
       "output_type": "pyout",
       "prompt_number": 348,
       "text": [
        "'4:46:35.7'"
       ]
      }
     ],
     "prompt_number": 348
    },
    {
     "cell_type": "code",
     "collapsed": false,
     "input": [
      "# Percentage of finishers faster than the mean:\n",
      "\"{:.2%}\".format(float(len(results[results.finish_seconds < results.finish_seconds.mean()]))/len(results))"
     ],
     "language": "python",
     "metadata": {},
     "outputs": [
      {
       "metadata": {},
       "output_type": "pyout",
       "prompt_number": 369,
       "text": [
        "'53.74%'"
       ]
      }
     ],
     "prompt_number": 369
    },
    {
     "cell_type": "markdown",
     "metadata": {},
     "source": [
      "Note that the number of finishers faster than the mean time of 4:20:55.7 is greater than 50%, indicating the distribution is not symmetrical about the mean/average. (More on this later)"
     ]
    },
    {
     "cell_type": "code",
     "collapsed": false,
     "input": [
      "# TODO: PC: Cumulative distribution of finishing times, i.e. 10th percentile, 20th, etc.\n",
      "\n"
     ],
     "language": "python",
     "metadata": {},
     "outputs": [],
     "prompt_number": 372
    },
    {
     "cell_type": "heading",
     "level": 3,
     "metadata": {},
     "source": [
      "Finishing Time Distribution and Goal Times"
     ]
    },
    {
     "cell_type": "markdown",
     "metadata": {},
     "source": [
      "Now, let's look at a histogram of all the finishing times. In the following histogram, the number of finishers in each five-minute interval are plotted:"
     ]
    },
    {
     "cell_type": "code",
     "collapsed": false,
     "input": [
      "# For plotting a histogram of finishing times:\n",
      "# Five-minute bins starting from 2:00:00.\n",
      "bins=[7200 + 300*i for i in range (0, 6*12 + 1)]\n",
      "\n",
      "def finish_time_histogram(results, color=None):\n",
      "    fig, ax = pyplot.subplots()\n",
      "    ax.xaxis.set_major_formatter(matplotlib.ticker.FuncFormatter(time_ticks))\n",
      "    ax.xaxis.set_major_locator(MultipleLocator(300))\n",
      "    ax.yaxis.set_label_text('number of finishers')\n",
      "    pylab.xticks(rotation='vertical')\n",
      "    return pyplot.hist(results.finish_seconds, bins=bins, color=color)"
     ],
     "language": "python",
     "metadata": {},
     "outputs": [],
     "prompt_number": 336
    },
    {
     "cell_type": "code",
     "collapsed": false,
     "input": [
      "plot = finish_time_histogram(results)\n",
      "plot[2][23].set_facecolor('r')"
     ],
     "language": "python",
     "metadata": {},
     "outputs": [
      {
       "metadata": {},
       "output_type": "display_data",
       "png": "[encoded data removed]",
       "text": [
        "<matplotlib.figure.Figure at 0x1ed96b00>"
       ]
      }
     ],
     "prompt_number": 340
    },
    {
     "cell_type": "markdown",
     "metadata": {},
     "source": [
      "This is a pretty interesting result, in my opinion.  If everyone was running to their ultimate best, you would expect a somewhat smooth graph that would be reflective of human ability.  In fact, I would expect it to be almost a normal distribution, with equal numbers of runners faster and slower than the mean, though I have no evidence to suggest running ability is normally distributed like other human attributes such as height.\n",
      "\n",
      "Instead, we have one extreme outlier bin - the 3:55-4:00 group of finishers. (I've highlighted this bin in red in the graph above)\n",
      "\n",
      "**My explanation**: To make vastly generalized statement, people do **not** aim to run their best time.  Instead, they *aim to run good enough to achieve some goal time*.  Anecdotally, this is what I've always heard when talking with other runners in my group: We all aim to hit some goal, whether it is sub-4:00, sub-3:30 or a Boston Qualifying (BQ) time. We run just hard enough to meet the goal, but not exceed it by a large margin. (Usually not more than five minutes)\n",
      "\n",
      "When looking at the above graph, it's clear to me that the **most common goal time** is a sub-4 hour finish. Again, I have no evidence to support this claim, but I believe many people who finished in the 3:55-4:00 could have run faster, but achieving a sub-4 finish was their goal. (I am not criticizing anyone here, just trying to make sense of the numbers, and indeed this was my strategy when running my first sub-3 hour marathon: Run the race \"just good enough\", and no better.  After all, why expose yourself to more pain than is necessary?)"
     ]
    },
    {
     "cell_type": "markdown",
     "metadata": {},
     "source": [
      "To test out my \"hypothesis\" more, let's look at specific gender-age groups I've cherry-picked to illustrate my point:  The following is for the M30-34 group:"
     ]
    },
    {
     "cell_type": "code",
     "collapsed": false,
     "input": [
      "# HYPOTHESIS: Personal goals (sub-3, sub-4, BQ) drives finishing times and get a distribution \n",
      "# that is higher in some ranges, skewing from an expected(?) normal or at least smooth distribution.\n",
      "# That is, people are not running to their ultimate best, but instead running \"good enough\" to meet\n",
      "# some goal. This results in clustering around specific times.\n",
      "\n",
      "# TODO: PC: This return an AxesSubplot instead of tuple (n, bins, patches); how to get this matplotlib type from the Pandas type?\n",
      "# Directly work with matplotlib.pyplot.hist()?\n",
      "plot = finish_time_histogram(results[(results.division == '30-34') & (results.gender == 'M')])\n",
      "plot[2][11].set_facecolor('r')\n",
      "plot[2][17].set_facecolor('r')\n",
      "plot[2][23].set_facecolor('r')"
     ],
     "language": "python",
     "metadata": {},
     "outputs": [
      {
       "metadata": {},
       "output_type": "display_data",
       "png": "[encoded data removed]",
       "text": [
        "<matplotlib.figure.Figure at 0x1ed9e9b0>"
       ]
      }
     ],
     "prompt_number": 376
    },
    {
     "cell_type": "markdown",
     "metadata": {},
     "source": [
      "The 3:55-4:00 bin is less prominent in M30-34 than for all runners, but it's still the largest bin and there is a **huge** drop off in the next slowest bin.  Seems like it's far less desirable to finish in 4:00-4:05.  \n",
      "\n",
      "The other anomaly here is the huge jump in the 2:55-3:00 bin compared to the previous one. This likely reflects the number of younger males going for that sub-3 finish, myself included.  Again, we all seem to have settled on the \"optimal\" strategy of running fast enough, but no faster.\n",
      "\n",
      "Another big jump happens in the 3:25-3:30 bin reflecting the sub-3:30 crowd. Curiously, there is no big jump in the 3:00-3:05 bin, which I would have expected given that a [Boston Qualifier](http://www.baa.org/races/boston-marathon/participant-information/qualifying/qualifying-standards.aspx) for this age group is 3:05 or faster.  However, these runners could have decided to go for the sub-3 since it's so close. (Or maybe that's just my after-the-fact explanation, to make the theory fit the facts - again, I am not claiming to be scientific here at all.)"
     ]
    },
    {
     "cell_type": "markdown",
     "metadata": {},
     "source": [
      "Let's look at the F30-34 division:"
     ]
    },
    {
     "cell_type": "code",
     "collapsed": false,
     "input": [
      "plot = finish_time_histogram(results[(results.division == '30-34') & (results.gender == 'W')])\n",
      "plot[2][18].set_facecolor('r')\n",
      "plot[2][23].set_facecolor('r')\n",
      "plot[2][29].set_facecolor('r')\n",
      "plot[2][35].set_facecolor('r')"
     ],
     "language": "python",
     "metadata": {},
     "outputs": [
      {
       "metadata": {},
       "output_type": "display_data",
       "png": "[encoded data removed]",
       "text": [
        "<matplotlib.figure.Figure at 0x1fb308d0>"
       ]
      }
     ],
     "prompt_number": 379
    },
    {
     "cell_type": "markdown",
     "metadata": {},
     "source": [
      "Three promiment peaks here: 3:55-4:00 (sub-4), 4:25-4:30 (sub-4:30) and 4:55-5:00. (sub-5).  These reflect the most common goals of this particular division/age group.\n",
      "\n",
      "There is a smaller anomaly resulting in a slightly larger 3:30-3:35 group than the surrounding ones, but it's not enough to be statistically significant I think. (Don't ask me to calculate the *p*-value)  If it means anything, it's because the BQ time for this age/gender group is 3:35 or faster."
     ]
    },
    {
     "cell_type": "code",
     "collapsed": false,
     "input": [
      "# TODO: PC: One more age group to illustrate the point."
     ],
     "language": "python",
     "metadata": {},
     "outputs": [],
     "prompt_number": 380
    },
    {
     "cell_type": "markdown",
     "metadata": {},
     "source": [
      "The next set of calculations will be in determining the split differences (difference between the second half split and first half split times) for each participant:"
     ]
    },
    {
     "cell_type": "code",
     "collapsed": false,
     "input": [
      "# Difference of second half split minus first half split.\n",
      "results['split_diff_seconds'] = (results['finish_seconds'] - results['half_split_seconds']) - results['half_split_seconds']\n",
      "results['split_diff'] = results['split_diff_seconds'].apply(seconds_to_timestring)"
     ],
     "language": "python",
     "metadata": {},
     "outputs": [],
     "prompt_number": 319
    },
    {
     "cell_type": "code",
     "collapsed": false,
     "input": [
      "# Returns results sorted by negative-split based on criteria.\n",
      "def results_by_negative_split(df, criteria=True):\n",
      "    return df[criteria].sort(columns='split_diff_seconds')"
     ],
     "language": "python",
     "metadata": {},
     "outputs": [],
     "prompt_number": 320
    },
    {
     "cell_type": "code",
     "collapsed": false,
     "input": [
      "results.sort(columns='split_diff_seconds')[:5]"
     ],
     "language": "python",
     "metadata": {},
     "outputs": [
      {
       "html": [
        "<div style=\"max-height:1000px;max-width:1500px;overflow:auto;\">\n",
        "<table border=\"1\" class=\"dataframe\">\n",
        "  <thead>\n",
        "    <tr style=\"text-align: right;\">\n",
        "      <th></th>\n",
        "      <th>place</th>\n",
        "      <th>place_gender</th>\n",
        "      <th>place_division</th>\n",
        "      <th>name_location</th>\n",
        "      <th>city_state</th>\n",
        "      <th>bib</th>\n",
        "      <th>division</th>\n",
        "      <th>age</th>\n",
        "      <th>half_split</th>\n",
        "      <th>finish</th>\n",
        "      <th>gender</th>\n",
        "      <th>finish_seconds</th>\n",
        "      <th>half_split_seconds</th>\n",
        "      <th>split_diff_seconds</th>\n",
        "      <th>split_diff</th>\n",
        "    </tr>\n",
        "  </thead>\n",
        "  <tbody>\n",
        "    <tr>\n",
        "      <th>33647</th>\n",
        "      <td> 29858</td>\n",
        "      <td> 12160</td>\n",
        "      <td> 1144</td>\n",
        "      <td> Kenney, Rachel (USA)</td>\n",
        "      <td>     Chicago, IL</td>\n",
        "      <td> 37639</td>\n",
        "      <td> 20-24</td>\n",
        "      <td> 22</td>\n",
        "      <td> 03:23:15</td>\n",
        "      <td> 05:10:24</td>\n",
        "      <td> W</td>\n",
        "      <td> 18624</td>\n",
        "      <td> 12195</td>\n",
        "      <td>-5766</td>\n",
        "      <td> -1:36:06.0</td>\n",
        "    </tr>\n",
        "    <tr>\n",
        "      <th>33914</th>\n",
        "      <td> 30380</td>\n",
        "      <td> 12427</td>\n",
        "      <td>  635</td>\n",
        "      <td> Sender, Juliet (USA)</td>\n",
        "      <td>     Chicago, IL</td>\n",
        "      <td> 51174</td>\n",
        "      <td> 50-54</td>\n",
        "      <td> 50</td>\n",
        "      <td> 03:16:47</td>\n",
        "      <td> 05:13:26</td>\n",
        "      <td> W</td>\n",
        "      <td> 18806</td>\n",
        "      <td> 11807</td>\n",
        "      <td>-4808</td>\n",
        "      <td> -1:20:08.0</td>\n",
        "    </tr>\n",
        "    <tr>\n",
        "      <th>15128</th>\n",
        "      <td> 24224</td>\n",
        "      <td> 15129</td>\n",
        "      <td> 2192</td>\n",
        "      <td>  Rojas, Camilo (USA)</td>\n",
        "      <td>      Oswego, IL</td>\n",
        "      <td> 25460</td>\n",
        "      <td> 25-29</td>\n",
        "      <td> 25</td>\n",
        "      <td> 02:56:48</td>\n",
        "      <td> 04:45:07</td>\n",
        "      <td> M</td>\n",
        "      <td> 17107</td>\n",
        "      <td> 10608</td>\n",
        "      <td>-4109</td>\n",
        "      <td> -1:08:29.0</td>\n",
        "    </tr>\n",
        "    <tr>\n",
        "      <th>18586</th>\n",
        "      <td> 31847</td>\n",
        "      <td> 18587</td>\n",
        "      <td>  384</td>\n",
        "      <td> Gonzalez, Luis (USA)</td>\n",
        "      <td>     Chicago, IL</td>\n",
        "      <td> 52319</td>\n",
        "      <td> 60-64</td>\n",
        "      <td> 60</td>\n",
        "      <td> 03:14:56</td>\n",
        "      <td> 05:22:16</td>\n",
        "      <td> M</td>\n",
        "      <td> 19336</td>\n",
        "      <td> 11696</td>\n",
        "      <td>-4056</td>\n",
        "      <td> -1:07:36.0</td>\n",
        "    </tr>\n",
        "    <tr>\n",
        "      <th>31756</th>\n",
        "      <td> 26453</td>\n",
        "      <td> 10269</td>\n",
        "      <td> 1753</td>\n",
        "      <td>  Zepeda, Karla (MEX)</td>\n",
        "      <td> Mexico City, DF</td>\n",
        "      <td> 22278</td>\n",
        "      <td> 35-39</td>\n",
        "      <td> 36</td>\n",
        "      <td> 02:58:07</td>\n",
        "      <td> 04:54:11</td>\n",
        "      <td> W</td>\n",
        "      <td> 17651</td>\n",
        "      <td> 10687</td>\n",
        "      <td>-3723</td>\n",
        "      <td> -1:02:03.0</td>\n",
        "    </tr>\n",
        "  </tbody>\n",
        "</table>\n",
        "</div>"
       ],
       "metadata": {},
       "output_type": "pyout",
       "prompt_number": 322,
       "text": [
        "       place  place_gender  place_division         name_location  \\\n",
        "33647  29858         12160            1144  Kenney, Rachel (USA)   \n",
        "33914  30380         12427             635  Sender, Juliet (USA)   \n",
        "15128  24224         15129            2192   Rojas, Camilo (USA)   \n",
        "18586  31847         18587             384  Gonzalez, Luis (USA)   \n",
        "31756  26453         10269            1753   Zepeda, Karla (MEX)   \n",
        "\n",
        "            city_state    bib division  age half_split    finish gender  \\\n",
        "33647      Chicago, IL  37639    20-24   22   03:23:15  05:10:24      W   \n",
        "33914      Chicago, IL  51174    50-54   50   03:16:47  05:13:26      W   \n",
        "15128       Oswego, IL  25460    25-29   25   02:56:48  04:45:07      M   \n",
        "18586      Chicago, IL  52319    60-64   60   03:14:56  05:22:16      M   \n",
        "31756  Mexico City, DF  22278    35-39   36   02:58:07  04:54:11      W   \n",
        "\n",
        "       finish_seconds  half_split_seconds  split_diff_seconds  split_diff  \n",
        "33647           18624               12195               -5766  -1:36:06.0  \n",
        "33914           18806               11807               -4808  -1:20:08.0  \n",
        "15128           17107               10608               -4109  -1:08:29.0  \n",
        "18586           19336               11696               -4056  -1:07:36.0  \n",
        "31756           17651               10687               -3723  -1:02:03.0  "
       ]
      }
     ],
     "prompt_number": 322
    },
    {
     "cell_type": "code",
     "collapsed": false,
     "input": [
      "# Most negative-split under four hours.\n",
      "results_by_negative_split(results, results.finish_seconds < 4*3600)[:3]"
     ],
     "language": "python",
     "metadata": {},
     "outputs": [
      {
       "html": [
        "<div style=\"max-height:1000px;max-width:1500px;overflow:auto;\">\n",
        "<table border=\"1\" class=\"dataframe\">\n",
        "  <thead>\n",
        "    <tr style=\"text-align: right;\">\n",
        "      <th></th>\n",
        "      <th>place</th>\n",
        "      <th>place_gender</th>\n",
        "      <th>place_division</th>\n",
        "      <th>name_location</th>\n",
        "      <th>city_state</th>\n",
        "      <th>bib</th>\n",
        "      <th>division</th>\n",
        "      <th>age</th>\n",
        "      <th>half_split</th>\n",
        "      <th>finish</th>\n",
        "      <th>gender</th>\n",
        "      <th>finish_seconds</th>\n",
        "      <th>half_split_seconds</th>\n",
        "      <th>split_diff_seconds</th>\n",
        "      <th>split_diff</th>\n",
        "    </tr>\n",
        "  </thead>\n",
        "  <tbody>\n",
        "    <tr>\n",
        "      <th>7217</th>\n",
        "      <td> 9637</td>\n",
        "      <td> 7218</td>\n",
        "      <td> 392</td>\n",
        "      <td>    Ross, Julian (USA)</td>\n",
        "      <td> Oak Forest, IL</td>\n",
        "      <td> 35090</td>\n",
        "      <td> 20-24</td>\n",
        "      <td> 24</td>\n",
        "      <td> 02:08:17</td>\n",
        "      <td> 03:53:32</td>\n",
        "      <td> M</td>\n",
        "      <td> 14012</td>\n",
        "      <td> 7697</td>\n",
        "      <td>-1382</td>\n",
        "      <td> -0:23:02.0</td>\n",
        "    </tr>\n",
        "    <tr>\n",
        "      <th>4690</th>\n",
        "      <td> 5872</td>\n",
        "      <td> 4691</td>\n",
        "      <td> 532</td>\n",
        "      <td>      Han, Zixia (USA)</td>\n",
        "      <td>   Portland, OR</td>\n",
        "      <td> 14317</td>\n",
        "      <td> 45-49</td>\n",
        "      <td> 48</td>\n",
        "      <td> 01:59:31</td>\n",
        "      <td> 03:38:50</td>\n",
        "      <td> M</td>\n",
        "      <td> 13130</td>\n",
        "      <td> 7171</td>\n",
        "      <td>-1212</td>\n",
        "      <td> -0:20:12.0</td>\n",
        "    </tr>\n",
        "    <tr>\n",
        "      <th>5171</th>\n",
        "      <td> 6575</td>\n",
        "      <td> 5172</td>\n",
        "      <td> 953</td>\n",
        "      <td> O'Hara, Timothy (USA)</td>\n",
        "      <td>  Arlington, MA</td>\n",
        "      <td> 17777</td>\n",
        "      <td> 30-34</td>\n",
        "      <td> 32</td>\n",
        "      <td> 02:00:45</td>\n",
        "      <td> 03:42:04</td>\n",
        "      <td> M</td>\n",
        "      <td> 13324</td>\n",
        "      <td> 7245</td>\n",
        "      <td>-1166</td>\n",
        "      <td> -0:19:26.0</td>\n",
        "    </tr>\n",
        "  </tbody>\n",
        "</table>\n",
        "</div>"
       ],
       "metadata": {},
       "output_type": "pyout",
       "prompt_number": 265,
       "text": [
        "      place  place_gender  place_division          name_location  \\\n",
        "7217   9637          7218             392     Ross, Julian (USA)   \n",
        "4690   5872          4691             532       Han, Zixia (USA)   \n",
        "5171   6575          5172             953  O'Hara, Timothy (USA)   \n",
        "\n",
        "          city_state    bib division  age half_split    finish gender  \\\n",
        "7217  Oak Forest, IL  35090    20-24   24   02:08:17  03:53:32      M   \n",
        "4690    Portland, OR  14317    45-49   48   01:59:31  03:38:50      M   \n",
        "5171   Arlington, MA  17777    30-34   32   02:00:45  03:42:04      M   \n",
        "\n",
        "      finish_seconds  half_split_seconds  split_diff_seconds  split_diff  \n",
        "7217           14012                7697               -1382  -0:23:02.0  \n",
        "4690           13130                7171               -1212  -0:20:12.0  \n",
        "5171           13324                7245               -1166  -0:19:26.0  "
       ]
      }
     ],
     "prompt_number": 265
    },
    {
     "cell_type": "code",
     "collapsed": false,
     "input": [
      "# Most negative-split under three hours.\n",
      "results_by_negative_split(results, results.finish_seconds < 3*3600)[:3]"
     ],
     "language": "python",
     "metadata": {},
     "outputs": [
      {
       "html": [
        "<div style=\"max-height:1000px;max-width:1500px;overflow:auto;\">\n",
        "<table border=\"1\" class=\"dataframe\">\n",
        "  <thead>\n",
        "    <tr style=\"text-align: right;\">\n",
        "      <th></th>\n",
        "      <th>place</th>\n",
        "      <th>place_gender</th>\n",
        "      <th>place_division</th>\n",
        "      <th>name_location</th>\n",
        "      <th>city_state</th>\n",
        "      <th>bib</th>\n",
        "      <th>division</th>\n",
        "      <th>age</th>\n",
        "      <th>half_split</th>\n",
        "      <th>finish</th>\n",
        "      <th>gender</th>\n",
        "      <th>finish_seconds</th>\n",
        "      <th>half_split_seconds</th>\n",
        "      <th>split_diff_seconds</th>\n",
        "      <th>split_diff</th>\n",
        "    </tr>\n",
        "  </thead>\n",
        "  <tbody>\n",
        "    <tr>\n",
        "      <th>408</th>\n",
        "      <td> 453</td>\n",
        "      <td> 409</td>\n",
        "      <td> 120</td>\n",
        "      <td>     Kucza, Mark (USA)</td>\n",
        "      <td> Fort Collins, CO</td>\n",
        "      <td> 1726</td>\n",
        "      <td> 25-29</td>\n",
        "      <td> 27</td>\n",
        "      <td> 01:29:10</td>\n",
        "      <td> 02:52:31</td>\n",
        "      <td> M</td>\n",
        "      <td> 10351</td>\n",
        "      <td> 5350</td>\n",
        "      <td>-349</td>\n",
        "      <td> -0:05:49.0</td>\n",
        "    </tr>\n",
        "    <tr>\n",
        "      <th>174</th>\n",
        "      <td> 191</td>\n",
        "      <td> 175</td>\n",
        "      <td>  52</td>\n",
        "      <td> Quinn, Lawrence (USA)</td>\n",
        "      <td>   Pittsburgh, PA</td>\n",
        "      <td> 1844</td>\n",
        "      <td> 30-34</td>\n",
        "      <td> 31</td>\n",
        "      <td> 01:24:15</td>\n",
        "      <td> 02:42:51</td>\n",
        "      <td> M</td>\n",
        "      <td>  9771</td>\n",
        "      <td> 5055</td>\n",
        "      <td>-339</td>\n",
        "      <td> -0:05:39.0</td>\n",
        "    </tr>\n",
        "    <tr>\n",
        "      <th>236</th>\n",
        "      <td> 256</td>\n",
        "      <td> 237</td>\n",
        "      <td>  18</td>\n",
        "      <td>  Hearn, Patrick (USA)</td>\n",
        "      <td> Jacksonville, FL</td>\n",
        "      <td>  985</td>\n",
        "      <td> 20-24</td>\n",
        "      <td> 23</td>\n",
        "      <td> 01:25:49</td>\n",
        "      <td> 02:46:03</td>\n",
        "      <td> M</td>\n",
        "      <td>  9963</td>\n",
        "      <td> 5149</td>\n",
        "      <td>-335</td>\n",
        "      <td> -0:05:35.0</td>\n",
        "    </tr>\n",
        "  </tbody>\n",
        "</table>\n",
        "</div>"
       ],
       "metadata": {},
       "output_type": "pyout",
       "prompt_number": 15,
       "text": [
        "     place  place_gender  place_division          name_location  \\\n",
        "408    453           409             120      Kucza, Mark (USA)   \n",
        "174    191           175              52  Quinn, Lawrence (USA)   \n",
        "236    256           237              18   Hearn, Patrick (USA)   \n",
        "\n",
        "           city_state   bib division  age half_split    finish gender  \\\n",
        "408  Fort Collins, CO  1726    25-29   27   01:29:10  02:52:31      M   \n",
        "174    Pittsburgh, PA  1844    30-34   31   01:24:15  02:42:51      M   \n",
        "236  Jacksonville, FL   985    20-24   23   01:25:49  02:46:03      M   \n",
        "\n",
        "     finish_seconds  half_split_seconds  split_diff_seconds  split_diff  \n",
        "408           10351                5350                -349  -0:05:49.0  \n",
        "174            9771                5055                -339  -0:05:39.0  \n",
        "236            9963                5149                -335  -0:05:35.0  "
       ]
      }
     ],
     "prompt_number": 15
    },
    {
     "cell_type": "code",
     "collapsed": false,
     "input": [
      "# TODO: PC: Plot of negative splits vs finish time, and negative splits per division."
     ],
     "language": "python",
     "metadata": {},
     "outputs": [],
     "prompt_number": 64
    },
    {
     "cell_type": "code",
     "collapsed": false,
     "input": [
      "\n"
     ],
     "language": "python",
     "metadata": {},
     "outputs": []
    }
   ],
   "metadata": {}
  }
 ]
}