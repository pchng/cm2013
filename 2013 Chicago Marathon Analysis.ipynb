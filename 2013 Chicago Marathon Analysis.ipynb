{
 "metadata": {
  "name": ""
 },
 "nbformat": 3,
 "nbformat_minor": 0,
 "worksheets": [
  {
   "cells": [
    {
     "cell_type": "markdown",
     "metadata": {},
     "source": [
      "# 2013 Chicago Marathon Analysis\n",
      "With close to 39,000 results, the [2013 Chicago Marathon Results](http://results.chicagomarathon.com/2013/) combine two of my favourite topics, statistics and running.  I decided to take this opportunity to learn more about [pandas](http://pandas.pydata.org/) by using it to analyze the result set to provide some insight into how people run marathons."
     ]
    },
    {
     "cell_type": "code",
     "collapsed": false,
     "input": [
      "import pandas as pd\n",
      "%pylab inline"
     ],
     "language": "python",
     "metadata": {},
     "outputs": [
      {
       "output_type": "stream",
       "stream": "stdout",
       "text": [
        "Populating the interactive namespace from numpy and matplotlib\n"
       ]
      }
     ],
     "prompt_number": 80
    },
    {
     "cell_type": "code",
     "collapsed": false,
     "input": [
      "# Plotting options.\n",
      "pd.set_option('display.mpl_style', 'default') # Make the graphs a bit prettier\n",
      "figsize(15, 5)"
     ],
     "language": "python",
     "metadata": {},
     "outputs": [],
     "prompt_number": 81
    },
    {
     "cell_type": "code",
     "collapsed": false,
     "input": [
      "results = pd.read_csv('chicago_marathon_results.csv')\n",
      "len(results)"
     ],
     "language": "python",
     "metadata": {},
     "outputs": [
      {
       "metadata": {},
       "output_type": "pyout",
       "prompt_number": 85,
       "text": [
        "38883"
       ]
      }
     ],
     "prompt_number": 85
    },
    {
     "cell_type": "markdown",
     "metadata": {},
     "source": [
      "# Demographics\n",
      "There were a total of 38,883 results obtained from the website, broken down into the following numbers for men/women:"
     ]
    },
    {
     "cell_type": "code",
     "collapsed": false,
     "input": [
      "results.groupby(['gender']).size().plot(kind='bar', figsize=(5,5))\n",
      "pylab.xticks(rotation='horizontal')\n",
      "# TODO: PC: Label the values"
     ],
     "language": "python",
     "metadata": {},
     "outputs": [
      {
       "metadata": {},
       "output_type": "pyout",
       "prompt_number": 107,
       "text": [
        "(array([ 0.625,  1.625]), <a list of 2 Text xticklabel objects>)"
       ]
      },
      {
       "metadata": {},
       "output_type": "display_data",
       "png": "[encoded data removed]",
       "text": [
        "<matplotlib.figure.Figure at 0x13616be0>"
       ]
      }
     ],
     "prompt_number": 107
    },
    {
     "cell_type": "markdown",
     "metadata": {},
     "source": [
      "A further breakdown by age group is provided below:"
     ]
    },
    {
     "cell_type": "code",
     "collapsed": false,
     "input": [
      "# TODO: PC: Graph both these in the same plot.\n",
      "# MG-esque explanation: Women care about fitness a lot sooner than men (mid-to-late 20s) than men, who generally start caring more\n",
      "# after their 30s\n",
      "m = results[results.gender == 'M'].groupby(['gender', 'division']).size().plot(kind='bar')\n",
      "f = results[results.gender == 'W'].groupby(['gender', 'division']).size().plot(kind='bar', color='r')"
     ],
     "language": "python",
     "metadata": {},
     "outputs": [
      {
       "metadata": {},
       "output_type": "display_data",
       "png": "[encoded data removed]",
       "text": [
        "<matplotlib.figure.Figure at 0x118e6828>"
       ]
      }
     ],
     "prompt_number": 105
    },
    {
     "cell_type": "code",
     "collapsed": false,
     "input": [
      "# Convert a hh:mm:ss string to int seconds.\n",
      "def timestring_to_seconds(time_string):\n",
      "    if type(time_string) != str:\n",
      "        return numpy.nan\n",
      "    parts = time_string.split(':')\n",
      "    return int(parts[0])*3600 + int(parts[1])*60 + int(parts[2])\n",
      "\n",
      "# Convert an int seconds into a str hh:mm:ss\n",
      "def seconds_to_timestring(time_seconds):\n",
      "    if math.isnan(time_seconds):\n",
      "        return nan\n",
      "    \n",
      "    # If the number is negative, work with the absolute value to avoid modulo with negative numbers.\n",
      "    time = abs(time_seconds)\n",
      "    \n",
      "    hours = int(time/3600)\n",
      "    minutes = int((time % 3600)/60)\n",
      "    seconds = time % 60\n",
      "    output = \"{0}:{1:02.0f}:{2:04.1f}\".format(hours, minutes, seconds)\n",
      "    if time_seconds < 0:\n",
      "        output = '-' + output\n",
      "    return output"
     ],
     "language": "python",
     "metadata": {},
     "outputs": [],
     "prompt_number": 10
    },
    {
     "cell_type": "code",
     "collapsed": false,
     "input": [
      "# Convert times into seconds.\n",
      "results['finish_seconds'] = results['finish'].map(timestring_to_seconds)\n",
      "results['half_split_seconds'] = results['half_split'].map(timestring_to_seconds)"
     ],
     "language": "python",
     "metadata": {},
     "outputs": [],
     "prompt_number": 11
    },
    {
     "cell_type": "code",
     "collapsed": false,
     "input": [
      "# Difference of second half split minus first half split.\n",
      "results['split_diff_seconds'] = (results['finish_seconds'] - results['half_split_seconds']) - results['half_split_seconds']\n",
      "results['split_diff'] = results['split_diff_seconds'].apply(seconds_to_timestring)"
     ],
     "language": "python",
     "metadata": {},
     "outputs": [],
     "prompt_number": 12
    },
    {
     "cell_type": "code",
     "collapsed": false,
     "input": [
      "# Returns results sorted by negative-split based on criteria.\n",
      "def results_by_negative_split(df, criteria):\n",
      "    return df[criteria].sort(columns='split_diff_seconds')"
     ],
     "language": "python",
     "metadata": {},
     "outputs": [],
     "prompt_number": 13
    },
    {
     "cell_type": "code",
     "collapsed": false,
     "input": [
      "# Most negative-split under four hours.\n",
      "results_by_negative_split(results, results.finish_seconds < 4*3600)[:3]"
     ],
     "language": "python",
     "metadata": {},
     "outputs": [
      {
       "html": [
        "<div style=\"max-height:1000px;max-width:1500px;overflow:auto;\">\n",
        "<table border=\"1\" class=\"dataframe\">\n",
        "  <thead>\n",
        "    <tr style=\"text-align: right;\">\n",
        "      <th></th>\n",
        "      <th>place</th>\n",
        "      <th>place_gender</th>\n",
        "      <th>place_division</th>\n",
        "      <th>name_location</th>\n",
        "      <th>city_state</th>\n",
        "      <th>bib</th>\n",
        "      <th>division</th>\n",
        "      <th>age</th>\n",
        "      <th>half_split</th>\n",
        "      <th>finish</th>\n",
        "      <th>gender</th>\n",
        "      <th>finish_seconds</th>\n",
        "      <th>half_split_seconds</th>\n",
        "      <th>split_diff_seconds</th>\n",
        "      <th>split_diff</th>\n",
        "    </tr>\n",
        "  </thead>\n",
        "  <tbody>\n",
        "    <tr>\n",
        "      <th>7217</th>\n",
        "      <td> 9637</td>\n",
        "      <td> 7218</td>\n",
        "      <td> 392</td>\n",
        "      <td>    Ross, Julian (USA)</td>\n",
        "      <td> Oak Forest, IL</td>\n",
        "      <td> 35090</td>\n",
        "      <td> 20-24</td>\n",
        "      <td> 24</td>\n",
        "      <td> 02:08:17</td>\n",
        "      <td> 03:53:32</td>\n",
        "      <td> M</td>\n",
        "      <td> 14012</td>\n",
        "      <td> 7697</td>\n",
        "      <td>-1382</td>\n",
        "      <td> -0:23:02.0</td>\n",
        "    </tr>\n",
        "    <tr>\n",
        "      <th>4690</th>\n",
        "      <td> 5872</td>\n",
        "      <td> 4691</td>\n",
        "      <td> 532</td>\n",
        "      <td>      Han, Zixia (USA)</td>\n",
        "      <td>   Portland, OR</td>\n",
        "      <td> 14317</td>\n",
        "      <td> 45-49</td>\n",
        "      <td> 48</td>\n",
        "      <td> 01:59:31</td>\n",
        "      <td> 03:38:50</td>\n",
        "      <td> M</td>\n",
        "      <td> 13130</td>\n",
        "      <td> 7171</td>\n",
        "      <td>-1212</td>\n",
        "      <td> -0:20:12.0</td>\n",
        "    </tr>\n",
        "    <tr>\n",
        "      <th>5171</th>\n",
        "      <td> 6575</td>\n",
        "      <td> 5172</td>\n",
        "      <td> 953</td>\n",
        "      <td> O'Hara, Timothy (USA)</td>\n",
        "      <td>  Arlington, MA</td>\n",
        "      <td> 17777</td>\n",
        "      <td> 30-34</td>\n",
        "      <td> 32</td>\n",
        "      <td> 02:00:45</td>\n",
        "      <td> 03:42:04</td>\n",
        "      <td> M</td>\n",
        "      <td> 13324</td>\n",
        "      <td> 7245</td>\n",
        "      <td>-1166</td>\n",
        "      <td> -0:19:26.0</td>\n",
        "    </tr>\n",
        "  </tbody>\n",
        "</table>\n",
        "</div>"
       ],
       "metadata": {},
       "output_type": "pyout",
       "prompt_number": 14,
       "text": [
        "      place  place_gender  place_division          name_location  \\\n",
        "7217   9637          7218             392     Ross, Julian (USA)   \n",
        "4690   5872          4691             532       Han, Zixia (USA)   \n",
        "5171   6575          5172             953  O'Hara, Timothy (USA)   \n",
        "\n",
        "          city_state    bib division  age half_split    finish gender  \\\n",
        "7217  Oak Forest, IL  35090    20-24   24   02:08:17  03:53:32      M   \n",
        "4690    Portland, OR  14317    45-49   48   01:59:31  03:38:50      M   \n",
        "5171   Arlington, MA  17777    30-34   32   02:00:45  03:42:04      M   \n",
        "\n",
        "      finish_seconds  half_split_seconds  split_diff_seconds  split_diff  \n",
        "7217           14012                7697               -1382  -0:23:02.0  \n",
        "4690           13130                7171               -1212  -0:20:12.0  \n",
        "5171           13324                7245               -1166  -0:19:26.0  "
       ]
      }
     ],
     "prompt_number": 14
    },
    {
     "cell_type": "code",
     "collapsed": false,
     "input": [
      "# Most negative-split under three hours.\n",
      "results_by_negative_split(results, results.finish_seconds < 3*3600)[:3]"
     ],
     "language": "python",
     "metadata": {},
     "outputs": [
      {
       "html": [
        "<div style=\"max-height:1000px;max-width:1500px;overflow:auto;\">\n",
        "<table border=\"1\" class=\"dataframe\">\n",
        "  <thead>\n",
        "    <tr style=\"text-align: right;\">\n",
        "      <th></th>\n",
        "      <th>place</th>\n",
        "      <th>place_gender</th>\n",
        "      <th>place_division</th>\n",
        "      <th>name_location</th>\n",
        "      <th>city_state</th>\n",
        "      <th>bib</th>\n",
        "      <th>division</th>\n",
        "      <th>age</th>\n",
        "      <th>half_split</th>\n",
        "      <th>finish</th>\n",
        "      <th>gender</th>\n",
        "      <th>finish_seconds</th>\n",
        "      <th>half_split_seconds</th>\n",
        "      <th>split_diff_seconds</th>\n",
        "      <th>split_diff</th>\n",
        "    </tr>\n",
        "  </thead>\n",
        "  <tbody>\n",
        "    <tr>\n",
        "      <th>408</th>\n",
        "      <td> 453</td>\n",
        "      <td> 409</td>\n",
        "      <td> 120</td>\n",
        "      <td>     Kucza, Mark (USA)</td>\n",
        "      <td> Fort Collins, CO</td>\n",
        "      <td> 1726</td>\n",
        "      <td> 25-29</td>\n",
        "      <td> 27</td>\n",
        "      <td> 01:29:10</td>\n",
        "      <td> 02:52:31</td>\n",
        "      <td> M</td>\n",
        "      <td> 10351</td>\n",
        "      <td> 5350</td>\n",
        "      <td>-349</td>\n",
        "      <td> -0:05:49.0</td>\n",
        "    </tr>\n",
        "    <tr>\n",
        "      <th>174</th>\n",
        "      <td> 191</td>\n",
        "      <td> 175</td>\n",
        "      <td>  52</td>\n",
        "      <td> Quinn, Lawrence (USA)</td>\n",
        "      <td>   Pittsburgh, PA</td>\n",
        "      <td> 1844</td>\n",
        "      <td> 30-34</td>\n",
        "      <td> 31</td>\n",
        "      <td> 01:24:15</td>\n",
        "      <td> 02:42:51</td>\n",
        "      <td> M</td>\n",
        "      <td>  9771</td>\n",
        "      <td> 5055</td>\n",
        "      <td>-339</td>\n",
        "      <td> -0:05:39.0</td>\n",
        "    </tr>\n",
        "    <tr>\n",
        "      <th>236</th>\n",
        "      <td> 256</td>\n",
        "      <td> 237</td>\n",
        "      <td>  18</td>\n",
        "      <td>  Hearn, Patrick (USA)</td>\n",
        "      <td> Jacksonville, FL</td>\n",
        "      <td>  985</td>\n",
        "      <td> 20-24</td>\n",
        "      <td> 23</td>\n",
        "      <td> 01:25:49</td>\n",
        "      <td> 02:46:03</td>\n",
        "      <td> M</td>\n",
        "      <td>  9963</td>\n",
        "      <td> 5149</td>\n",
        "      <td>-335</td>\n",
        "      <td> -0:05:35.0</td>\n",
        "    </tr>\n",
        "  </tbody>\n",
        "</table>\n",
        "</div>"
       ],
       "metadata": {},
       "output_type": "pyout",
       "prompt_number": 15,
       "text": [
        "     place  place_gender  place_division          name_location  \\\n",
        "408    453           409             120      Kucza, Mark (USA)   \n",
        "174    191           175              52  Quinn, Lawrence (USA)   \n",
        "236    256           237              18   Hearn, Patrick (USA)   \n",
        "\n",
        "           city_state   bib division  age half_split    finish gender  \\\n",
        "408  Fort Collins, CO  1726    25-29   27   01:29:10  02:52:31      M   \n",
        "174    Pittsburgh, PA  1844    30-34   31   01:24:15  02:42:51      M   \n",
        "236  Jacksonville, FL   985    20-24   23   01:25:49  02:46:03      M   \n",
        "\n",
        "     finish_seconds  half_split_seconds  split_diff_seconds  split_diff  \n",
        "408           10351                5350                -349  -0:05:49.0  \n",
        "174            9771                5055                -339  -0:05:39.0  \n",
        "236            9963                5149                -335  -0:05:35.0  "
       ]
      }
     ],
     "prompt_number": 15
    },
    {
     "cell_type": "code",
     "collapsed": false,
     "input": [
      "# Axis formatter to convert seconds to a human-readable time.\n",
      "def time_ticks(x, pos):\n",
      "    d = datetime.timedelta(seconds=x)\n",
      "    return str(d)"
     ],
     "language": "python",
     "metadata": {},
     "outputs": [],
     "prompt_number": 16
    },
    {
     "cell_type": "code",
     "collapsed": false,
     "input": [
      "# Overall distribution of finishing time by place.\n",
      "# NOTE: Need to set x/y here because it's plotting against the CSV import order, not the place.\n",
      "# TODO: PC: Format x-axis.\n",
      "fig, ax = pyplot.subplots()\n",
      "ax.yaxis.set_major_formatter(matplotlib.ticker.FuncFormatter(time_ticks))\n",
      "ax.yaxis.set_label_text('finishing time')\n",
      "results.sort(columns='finish_seconds').plot(x='place', y='finish_seconds', figsize=(15,5))"
     ],
     "language": "python",
     "metadata": {},
     "outputs": [
      {
       "metadata": {},
       "output_type": "pyout",
       "prompt_number": 17,
       "text": [
        "<matplotlib.axes.AxesSubplot at 0xbfa36d8>"
       ]
      },
      {
       "metadata": {},
       "output_type": "display_data",
       "png": "[encoded data removed]",
       "text": [
        "<matplotlib.figure.Figure at 0xbfa32b0>"
       ]
      }
     ],
     "prompt_number": 17
    },
    {
     "cell_type": "code",
     "collapsed": false,
     "input": [
      "# For plotting a histogram of finishing times:\n",
      "# Five-minute bins starting from 2:00:00.\n",
      "bins=[7200 + 300*i for i in range (0, 6*12 + 1)]"
     ],
     "language": "python",
     "metadata": {},
     "outputs": [],
     "prompt_number": 18
    },
    {
     "cell_type": "code",
     "collapsed": false,
     "input": [
      "def finish_time_histogram(results, color=None):\n",
      "    fig, ax = pyplot.subplots()\n",
      "    ax.xaxis.set_major_formatter(matplotlib.ticker.FuncFormatter(time_ticks))\n",
      "    ax.xaxis.set_major_locator(MultipleLocator(300))\n",
      "    pylab.xticks(rotation='vertical')\n",
      "    return pyplot.hist(results.finish_seconds, bins=bins, color=color)"
     ],
     "language": "python",
     "metadata": {},
     "outputs": [],
     "prompt_number": 55
    },
    {
     "cell_type": "code",
     "collapsed": false,
     "input": [
      "# Histogram of all finishing times.\n",
      "plot = finish_time_histogram(results)\n",
      "plot[2][23].set_facecolor('r')"
     ],
     "language": "python",
     "metadata": {},
     "outputs": [
      {
       "metadata": {},
       "output_type": "display_data",
       "png": "[encoded data removed]",
       "text": [
        "<matplotlib.figure.Figure at 0x119f7198>"
       ]
      }
     ],
     "prompt_number": 62
    },
    {
     "cell_type": "code",
     "collapsed": false,
     "input": [
      "# HYPOTHESIS: Personal goals (sub-3, sub-4, BQ) drives finishing times and get a distribution \n",
      "# that is higher in some ranges, skewing from an expected(?) normal or at least smooth distribution.\n",
      "# That is, people are not running to their ultimate best, but instead running \"good enough\" to meet\n",
      "# some goal. This results in clustering around specific times.\n",
      "\n",
      "# NOTE: This isn't a rigourous statistical analysis and I am not a statistician. Instead, these are \n",
      "# at best Malcolm Gladwell-esque observations, minus the interesting storytelling.\n",
      "# (I could make up a story about Fred, the 40-something suburbanite facing a mid-life crisis, who \n",
      "# sets out to accomplish the goal of finishing a marathon and his arduous journey towards fulfilling\n",
      "# that dream in which he came in just under four hours, but it would probably be a bad story because I wrote it.)\n",
      "# I have also cherry-picked results.\n",
      "\n",
      "# TODO: PC: How to change the colour of one bar?\n",
      "# Finish time histogram for M30-34.\n",
      "#plot = finish_time_histogram(results[(results.division == '30-34') & (results.gender == 'M')], color=['r'])\n",
      "\n",
      "# TODO: PC: This return an AxesSubplot instead of tuple (n, bins, patches); how to get this matplotlib type from the Pandas type?\n",
      "# Directly work with matplotlib.pyplot.hist()?\n",
      "plot = finish_time_histogram(results[(results.division == '30-34') & (results.gender == 'M')])\n",
      "plot[2][11].set_facecolor('r')\n",
      "plot[2][23].set_facecolor('r')"
     ],
     "language": "python",
     "metadata": {},
     "outputs": [
      {
       "metadata": {},
       "output_type": "display_data",
       "png": "[encoded data removed]",
       "text": [
        "<matplotlib.figure.Figure at 0x104b50f0>"
       ]
      }
     ],
     "prompt_number": 63
    },
    {
     "cell_type": "code",
     "collapsed": false,
     "input": [
      "# TODO: PC: Plot of negative splits vs finish time, and negative splits per division."
     ],
     "language": "python",
     "metadata": {},
     "outputs": [],
     "prompt_number": 64
    },
    {
     "cell_type": "code",
     "collapsed": false,
     "input": [
      "plot = finish_time_histogram(results[(results.division == '30-34') & (results.gender == 'W')])\n",
      "plot[2][23].set_facecolor('r')\n",
      "plot[2][29].set_facecolor('r')\n",
      "plot[2][35].set_facecolor('r')"
     ],
     "language": "python",
     "metadata": {},
     "outputs": [
      {
       "metadata": {},
       "output_type": "display_data",
       "png": "[encoded data removed]",
       "text": [
        "<matplotlib.figure.Figure at 0x104f72b0>"
       ]
      }
     ],
     "prompt_number": 78
    },
    {
     "cell_type": "code",
     "collapsed": false,
     "input": [
      "# TODO: PC: Cumulative distribution of finishing times, i.e. 10th percentile, 20th, etc.\n"
     ],
     "language": "python",
     "metadata": {},
     "outputs": []
    }
   ],
   "metadata": {}
  }
 ]
}